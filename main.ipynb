{
 "cells": [
  {
   "cell_type": "markdown",
   "id": "93f406d7",
   "metadata": {},
   "source": [
    "# Berlin Microcensus Housing Situation (source-aligned) - Sample Notebook"
   ]
  },
  {
   "cell_type": "markdown",
   "id": "98ab3609",
   "metadata": {},
   "source": [
    "## Explore data"
   ]
  },
  {
   "cell_type": "code",
   "execution_count": 1,
   "id": "42febfd4",
   "metadata": {
    "execution": {
     "iopub.execute_input": "2025-10-28T22:45:38.896746Z",
     "iopub.status.busy": "2025-10-28T22:45:38.896526Z",
     "iopub.status.idle": "2025-10-28T22:45:38.904385Z",
     "shell.execute_reply": "2025-10-28T22:45:38.903395Z"
    }
   },
   "outputs": [],
   "source": [
    "import pandas as pd\n",
    "\n",
    "# Read csv file\n",
    "dataframe = pd.read_csv(\n",
    "    \"./data/03-gold/berlin-microcensus-housing-situation-2022-00-csv/berlin-microcensus-housing-situation-2022-00-18-households-by-gross-rent-districts.csv\"\n",
    ")"
   ]
  },
  {
   "cell_type": "code",
   "execution_count": 2,
   "id": "ccd1ca53",
   "metadata": {
    "execution": {
     "iopub.execute_input": "2025-10-28T22:45:38.907213Z",
     "iopub.status.busy": "2025-10-28T22:45:38.907073Z",
     "iopub.status.idle": "2025-10-28T22:45:38.926579Z",
     "shell.execute_reply": "2025-10-28T22:45:38.925605Z"
    }
   },
   "outputs": [
    {
     "data": {
      "text/html": [
       "<div>\n",
       "<style scoped>\n",
       "    .dataframe tbody tr th:only-of-type {\n",
       "        vertical-align: middle;\n",
       "    }\n",
       "\n",
       "    .dataframe tbody tr th {\n",
       "        vertical-align: top;\n",
       "    }\n",
       "\n",
       "    .dataframe thead th {\n",
       "        text-align: right;\n",
       "    }\n",
       "</style>\n",
       "<table border=\"1\" class=\"dataframe\">\n",
       "  <thead>\n",
       "    <tr style=\"text-align: right;\">\n",
       "      <th></th>\n",
       "      <th>id</th>\n",
       "      <th>total</th>\n",
       "      <th>gross_rent_below_400_euros</th>\n",
       "      <th>gross_rent_between_400_and_500_euros</th>\n",
       "      <th>gross_rent_between_500_and_600_euros</th>\n",
       "      <th>gross_rent_between_600_and_700_euros</th>\n",
       "      <th>gross_rent_between_700_and_800_euros</th>\n",
       "      <th>gross_rent_more_than_800_euros</th>\n",
       "      <th>gross_rent_average</th>\n",
       "    </tr>\n",
       "  </thead>\n",
       "  <tbody>\n",
       "    <tr>\n",
       "      <th>0</th>\n",
       "      <td>1</td>\n",
       "      <td>172.0</td>\n",
       "      <td>31.0</td>\n",
       "      <td>30.0</td>\n",
       "      <td>26.0</td>\n",
       "      <td>22.0</td>\n",
       "      <td>16</td>\n",
       "      <td>47</td>\n",
       "      <td>711.0</td>\n",
       "    </tr>\n",
       "    <tr>\n",
       "      <th>1</th>\n",
       "      <td>2</td>\n",
       "      <td>121.0</td>\n",
       "      <td>17.0</td>\n",
       "      <td>20.0</td>\n",
       "      <td>19.0</td>\n",
       "      <td>16.0</td>\n",
       "      <td>14</td>\n",
       "      <td>34</td>\n",
       "      <td>707.0</td>\n",
       "    </tr>\n",
       "    <tr>\n",
       "      <th>2</th>\n",
       "      <td>3</td>\n",
       "      <td>171.0</td>\n",
       "      <td>25.0</td>\n",
       "      <td>35.0</td>\n",
       "      <td>27.0</td>\n",
       "      <td>18.0</td>\n",
       "      <td>15</td>\n",
       "      <td>50</td>\n",
       "      <td>701.0</td>\n",
       "    </tr>\n",
       "    <tr>\n",
       "      <th>3</th>\n",
       "      <td>4</td>\n",
       "      <td>135.0</td>\n",
       "      <td>15.0</td>\n",
       "      <td>21.0</td>\n",
       "      <td>21.0</td>\n",
       "      <td>22.0</td>\n",
       "      <td>14</td>\n",
       "      <td>42</td>\n",
       "      <td>748.0</td>\n",
       "    </tr>\n",
       "    <tr>\n",
       "      <th>4</th>\n",
       "      <td>5</td>\n",
       "      <td>98.0</td>\n",
       "      <td>17.0</td>\n",
       "      <td>24.0</td>\n",
       "      <td>21.0</td>\n",
       "      <td>14.0</td>\n",
       "      <td>/</td>\n",
       "      <td>15</td>\n",
       "      <td>585.0</td>\n",
       "    </tr>\n",
       "  </tbody>\n",
       "</table>\n",
       "</div>"
      ],
      "text/plain": [
       "   id  total  ...  gross_rent_more_than_800_euros  gross_rent_average\n",
       "0   1  172.0  ...                              47               711.0\n",
       "1   2  121.0  ...                              34               707.0\n",
       "2   3  171.0  ...                              50               701.0\n",
       "3   4  135.0  ...                              42               748.0\n",
       "4   5   98.0  ...                              15               585.0\n",
       "\n",
       "[5 rows x 9 columns]"
      ]
     },
     "execution_count": 2,
     "metadata": {},
     "output_type": "execute_result"
    }
   ],
   "source": [
    "# Display 5 first rows\n",
    "dataframe.head()"
   ]
  },
  {
   "cell_type": "code",
   "execution_count": 3,
   "id": "05a5f973",
   "metadata": {
    "execution": {
     "iopub.execute_input": "2025-10-28T22:45:38.929685Z",
     "iopub.status.busy": "2025-10-28T22:45:38.929390Z",
     "iopub.status.idle": "2025-10-28T22:45:38.935675Z",
     "shell.execute_reply": "2025-10-28T22:45:38.934732Z"
    }
   },
   "outputs": [
    {
     "name": "stdout",
     "output_type": "stream",
     "text": [
      "<class 'pandas.core.frame.DataFrame'>\n",
      "RangeIndex: 12 entries, 0 to 11\n",
      "Data columns (total 9 columns):\n",
      " #   Column                                Non-Null Count  Dtype  \n",
      "---  ------                                --------------  -----  \n",
      " 0   id                                    12 non-null     int64  \n",
      " 1   total                                 12 non-null     float64\n",
      " 2   gross_rent_below_400_euros            12 non-null     float64\n",
      " 3   gross_rent_between_400_and_500_euros  12 non-null     float64\n",
      " 4   gross_rent_between_500_and_600_euros  12 non-null     float64\n",
      " 5   gross_rent_between_600_and_700_euros  12 non-null     float64\n",
      " 6   gross_rent_between_700_and_800_euros  12 non-null     object \n",
      " 7   gross_rent_more_than_800_euros        12 non-null     object \n",
      " 8   gross_rent_average                    12 non-null     float64\n",
      "dtypes: float64(6), int64(1), object(2)\n",
      "memory usage: 996.0+ bytes\n"
     ]
    }
   ],
   "source": [
    "# Display dataframe info\n",
    "dataframe.info()"
   ]
  },
  {
   "cell_type": "code",
   "execution_count": 4,
   "id": "6e8001eb",
   "metadata": {
    "execution": {
     "iopub.execute_input": "2025-10-28T22:45:38.938497Z",
     "iopub.status.busy": "2025-10-28T22:45:38.938390Z",
     "iopub.status.idle": "2025-10-28T22:45:38.950687Z",
     "shell.execute_reply": "2025-10-28T22:45:38.949791Z"
    }
   },
   "outputs": [
    {
     "data": {
      "text/html": [
       "<div>\n",
       "<style scoped>\n",
       "    .dataframe tbody tr th:only-of-type {\n",
       "        vertical-align: middle;\n",
       "    }\n",
       "\n",
       "    .dataframe tbody tr th {\n",
       "        vertical-align: top;\n",
       "    }\n",
       "\n",
       "    .dataframe thead th {\n",
       "        text-align: right;\n",
       "    }\n",
       "</style>\n",
       "<table border=\"1\" class=\"dataframe\">\n",
       "  <thead>\n",
       "    <tr style=\"text-align: right;\">\n",
       "      <th></th>\n",
       "      <th>id</th>\n",
       "      <th>total</th>\n",
       "      <th>gross_rent_below_400_euros</th>\n",
       "      <th>gross_rent_between_400_and_500_euros</th>\n",
       "      <th>gross_rent_between_500_and_600_euros</th>\n",
       "      <th>gross_rent_between_600_and_700_euros</th>\n",
       "      <th>gross_rent_average</th>\n",
       "    </tr>\n",
       "  </thead>\n",
       "  <tbody>\n",
       "    <tr>\n",
       "      <th>count</th>\n",
       "      <td>12.000000</td>\n",
       "      <td>12.000000</td>\n",
       "      <td>12.000000</td>\n",
       "      <td>12.000000</td>\n",
       "      <td>12.000000</td>\n",
       "      <td>12.000000</td>\n",
       "      <td>12.000000</td>\n",
       "    </tr>\n",
       "    <tr>\n",
       "      <th>mean</th>\n",
       "      <td>6.500000</td>\n",
       "      <td>126.166667</td>\n",
       "      <td>21.750000</td>\n",
       "      <td>26.166667</td>\n",
       "      <td>23.666667</td>\n",
       "      <td>17.083333</td>\n",
       "      <td>636.083333</td>\n",
       "    </tr>\n",
       "    <tr>\n",
       "      <th>std</th>\n",
       "      <td>3.605551</td>\n",
       "      <td>27.024680</td>\n",
       "      <td>6.311966</td>\n",
       "      <td>7.929615</td>\n",
       "      <td>4.458563</td>\n",
       "      <td>3.629634</td>\n",
       "      <td>74.832490</td>\n",
       "    </tr>\n",
       "    <tr>\n",
       "      <th>min</th>\n",
       "      <td>1.000000</td>\n",
       "      <td>90.000000</td>\n",
       "      <td>13.000000</td>\n",
       "      <td>15.000000</td>\n",
       "      <td>17.000000</td>\n",
       "      <td>12.000000</td>\n",
       "      <td>507.000000</td>\n",
       "    </tr>\n",
       "    <tr>\n",
       "      <th>25%</th>\n",
       "      <td>3.750000</td>\n",
       "      <td>106.250000</td>\n",
       "      <td>16.500000</td>\n",
       "      <td>20.750000</td>\n",
       "      <td>20.750000</td>\n",
       "      <td>14.000000</td>\n",
       "      <td>581.250000</td>\n",
       "    </tr>\n",
       "    <tr>\n",
       "      <th>50%</th>\n",
       "      <td>6.500000</td>\n",
       "      <td>125.000000</td>\n",
       "      <td>23.000000</td>\n",
       "      <td>25.000000</td>\n",
       "      <td>23.000000</td>\n",
       "      <td>16.500000</td>\n",
       "      <td>637.000000</td>\n",
       "    </tr>\n",
       "    <tr>\n",
       "      <th>75%</th>\n",
       "      <td>9.250000</td>\n",
       "      <td>139.250000</td>\n",
       "      <td>26.500000</td>\n",
       "      <td>31.250000</td>\n",
       "      <td>26.250000</td>\n",
       "      <td>19.000000</td>\n",
       "      <td>702.500000</td>\n",
       "    </tr>\n",
       "    <tr>\n",
       "      <th>max</th>\n",
       "      <td>12.000000</td>\n",
       "      <td>172.000000</td>\n",
       "      <td>31.000000</td>\n",
       "      <td>41.000000</td>\n",
       "      <td>31.000000</td>\n",
       "      <td>23.000000</td>\n",
       "      <td>748.000000</td>\n",
       "    </tr>\n",
       "  </tbody>\n",
       "</table>\n",
       "</div>"
      ],
      "text/plain": [
       "              id  ...  gross_rent_average\n",
       "count  12.000000  ...           12.000000\n",
       "mean    6.500000  ...          636.083333\n",
       "std     3.605551  ...           74.832490\n",
       "min     1.000000  ...          507.000000\n",
       "25%     3.750000  ...          581.250000\n",
       "50%     6.500000  ...          637.000000\n",
       "75%     9.250000  ...          702.500000\n",
       "max    12.000000  ...          748.000000\n",
       "\n",
       "[8 rows x 7 columns]"
      ]
     },
     "execution_count": 4,
     "metadata": {},
     "output_type": "execute_result"
    }
   ],
   "source": [
    "# Describe dataframe\n",
    "dataframe.describe()"
   ]
  }
 ],
 "metadata": {
  "language_info": {
   "codemirror_mode": {
    "name": "ipython",
    "version": 3
   },
   "file_extension": ".py",
   "mimetype": "text/x-python",
   "name": "python",
   "nbconvert_exporter": "python",
   "pygments_lexer": "ipython3",
   "version": "3.13.0"
  }
 },
 "nbformat": 4,
 "nbformat_minor": 5
}
